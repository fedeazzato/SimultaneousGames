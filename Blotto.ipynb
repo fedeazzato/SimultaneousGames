{
 "cells": [
  {
   "cell_type": "code",
   "execution_count": 1,
   "metadata": {},
   "outputs": [],
   "source": [
    "import numpy as np\n",
    "from games.blotto import Blotto\n",
    "from agents.regretmatching import RegretMatching\n",
    "from agents.fictitiousplay import FictitiousPlay\n",
    "from agents.random_agent import RandomAgent"
   ]
  },
  {
   "cell_type": "markdown",
   "metadata": {},
   "source": [
    "##### Las reglas del \"Blotto\" son: \n",
    "-  Fijar un número entero (S)\n",
    "-  Fijar otro número entero (N)\n",
    "\n",
    "La idea es que cada jugador deberá elegir una secuencia de N números enteros positivos y no decrecientes, tales que la suma de esos números sea S.\n",
    "\n",
    "Luego, se comparan los N valores de cada uno, componente a componente, y gana el jugador que tenga mas componentes de valor mas alto que su adversario. \n",
    "\n",
    "En su forma tradicional, el \"Coronel Blotto\" dispone de S soldados para combatir en N campos de batalla. En cada campo de batalla, ganará el que haya puesto más soldados, y la guerra (partida) será ganada por el que haya vencido en más de esas batallas simultáneas."
   ]
  },
  {
   "cell_type": "code",
   "execution_count": 2,
   "metadata": {},
   "outputs": [],
   "source": [
    "g = Blotto(S=6, N=3)"
   ]
  },
  {
   "cell_type": "code",
   "execution_count": 3,
   "metadata": {},
   "outputs": [
    {
     "data": {
      "text/plain": [
       "({'agent_0': None, 'agent_1': None}, None)"
      ]
     },
     "execution_count": 3,
     "metadata": {},
     "output_type": "execute_result"
    }
   ],
   "source": [
    "g.reset()"
   ]
  },
  {
   "cell_type": "code",
   "execution_count": 4,
   "metadata": {},
   "outputs": [
    {
     "data": {
      "text/plain": [
       "[[1, 1, 4], [1, 2, 3], [2, 2, 2]]"
      ]
     },
     "execution_count": 4,
     "metadata": {},
     "output_type": "execute_result"
    }
   ],
   "source": [
    "g._moves"
   ]
  },
  {
   "cell_type": "markdown",
   "metadata": {},
   "source": [
    "#### Blotto, agente y oponente Regret"
   ]
  },
  {
   "cell_type": "code",
   "execution_count": 5,
   "metadata": {},
   "outputs": [],
   "source": [
    "rm = dict(map(lambda agent: (agent, RegretMatching(game=g, agent=agent)), g.agents))"
   ]
  },
  {
   "cell_type": "code",
   "execution_count": 6,
   "metadata": {},
   "outputs": [],
   "source": [
    "for i in range(10000):\n",
    "    actions = dict(map(lambda agent: (agent, rm[agent].action()), g.agents))\n",
    "    g.step(actions)"
   ]
  },
  {
   "cell_type": "code",
   "execution_count": 7,
   "metadata": {},
   "outputs": [
    {
     "data": {
      "text/plain": [
       "{'agent_0': [1, 1, 4], 'agent_1': [1, 1, 4]}"
      ]
     },
     "execution_count": 7,
     "metadata": {},
     "output_type": "execute_result"
    }
   ],
   "source": [
    "dict(map(lambda agent: (agent, g._moves[np.argmax(rm[agent].policy())]), g.agents))"
   ]
  },
  {
   "cell_type": "markdown",
   "metadata": {},
   "source": [
    "#### Blotto, agente Regret y oponente Random"
   ]
  },
  {
   "cell_type": "code",
   "execution_count": 8,
   "metadata": {},
   "outputs": [],
   "source": [
    "agent_classes = [ RegretMatching, RandomAgent ]\n",
    "my_agents = {}\n",
    "g.reset()\n",
    "for i, agent in enumerate(g.agents):\n",
    "    my_agents[agent] = agent_classes[i](game=g, agent=agent)\n"
   ]
  },
  {
   "cell_type": "code",
   "execution_count": 9,
   "metadata": {},
   "outputs": [],
   "source": [
    "for i in range(10000):\n",
    "    actions = dict(map(lambda agent: (agent, my_agents[agent].action()), g.agents))\n",
    "    g.step(actions)"
   ]
  },
  {
   "cell_type": "code",
   "execution_count": 10,
   "metadata": {},
   "outputs": [
    {
     "data": {
      "text/plain": [
       "{'agent_0': [1, 1, 4], 'agent_1': [1, 1, 4]}"
      ]
     },
     "execution_count": 10,
     "metadata": {},
     "output_type": "execute_result"
    }
   ],
   "source": [
    "dict(map(lambda agent: (agent, g._moves[np.argmax(my_agents[agent].policy())]), g.agents))"
   ]
  },
  {
   "cell_type": "markdown",
   "metadata": {},
   "source": [
    "#### Blotto, agente y oponente Fictitious"
   ]
  },
  {
   "cell_type": "code",
   "execution_count": 11,
   "metadata": {},
   "outputs": [
    {
     "data": {
      "text/plain": [
       "({'agent_0': None, 'agent_1': None}, None)"
      ]
     },
     "execution_count": 11,
     "metadata": {},
     "output_type": "execute_result"
    }
   ],
   "source": [
    "g.reset()"
   ]
  },
  {
   "cell_type": "code",
   "execution_count": 12,
   "metadata": {},
   "outputs": [],
   "source": [
    "fp = dict(map(lambda agent: (agent, FictitiousPlay(game=g, agent=agent)), g.agents))"
   ]
  },
  {
   "cell_type": "code",
   "execution_count": 13,
   "metadata": {},
   "outputs": [],
   "source": [
    "for i in range(10000):\n",
    "    actions = dict(map(lambda agent: (agent, fp[agent].action()), g.agents))\n",
    "    g.step(actions)"
   ]
  },
  {
   "cell_type": "code",
   "execution_count": 14,
   "metadata": {},
   "outputs": [
    {
     "data": {
      "text/plain": [
       "{'agent_0': [2, 2, 2], 'agent_1': [2, 2, 2]}"
      ]
     },
     "execution_count": 14,
     "metadata": {},
     "output_type": "execute_result"
    }
   ],
   "source": [
    "dict(map(lambda agent: (agent, g._moves[np.argmax(fp[agent].policy())]), g.agents))"
   ]
  },
  {
   "cell_type": "markdown",
   "metadata": {},
   "source": [
    "#### Blotto, agente Fictitious y oponente Random"
   ]
  },
  {
   "cell_type": "code",
   "execution_count": 15,
   "metadata": {},
   "outputs": [],
   "source": [
    "agent_classes = [ FictitiousPlay, RandomAgent ]\n",
    "my_agents = {}\n",
    "g.reset()\n",
    "for i, agent in enumerate(g.agents):\n",
    "    my_agents[agent] = agent_classes[i](game=g, agent=agent)\n"
   ]
  },
  {
   "cell_type": "code",
   "execution_count": 16,
   "metadata": {},
   "outputs": [],
   "source": [
    "for i in range(10000):\n",
    "    actions = dict(map(lambda agent: (agent, my_agents[agent].action()), g.agents))\n",
    "    g.step(actions)"
   ]
  },
  {
   "cell_type": "code",
   "execution_count": 17,
   "metadata": {},
   "outputs": [
    {
     "data": {
      "text/plain": [
       "{'agent_0': [2, 2, 2], 'agent_1': [1, 1, 4]}"
      ]
     },
     "execution_count": 17,
     "metadata": {},
     "output_type": "execute_result"
    }
   ],
   "source": [
    "dict(map(lambda agent: (agent, g._moves[np.argmax(my_agents[agent].policy())]), g.agents))"
   ]
  }
 ],
 "metadata": {
  "kernelspec": {
   "display_name": "Python 3",
   "language": "python",
   "name": "python3"
  },
  "language_info": {
   "codemirror_mode": {
    "name": "ipython",
    "version": 3
   },
   "file_extension": ".py",
   "mimetype": "text/x-python",
   "name": "python",
   "nbconvert_exporter": "python",
   "pygments_lexer": "ipython3",
   "version": "3.11.0"
  },
  "orig_nbformat": 4
 },
 "nbformat": 4,
 "nbformat_minor": 2
}
