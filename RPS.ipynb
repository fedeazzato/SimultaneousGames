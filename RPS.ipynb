{
 "cells": [
  {
   "cell_type": "code",
   "execution_count": 1,
   "metadata": {},
   "outputs": [],
   "source": [
    "from games.rps import RPS\n",
    "from agents.regretmatching import RegretMatching\n",
    "#from agents.fictitiousplay import FictitiousPlay\n",
    "#from agents.random_agent import RandomAgent"
   ]
  },
  {
   "cell_type": "code",
   "execution_count": 2,
   "metadata": {},
   "outputs": [],
   "source": [
    "g = RPS()"
   ]
  },
  {
   "cell_type": "code",
   "execution_count": 3,
   "metadata": {},
   "outputs": [
    {
     "data": {
      "text/plain": [
       "({'agent_0': None, 'agent_1': None}, None)"
      ]
     },
     "execution_count": 3,
     "metadata": {},
     "output_type": "execute_result"
    }
   ],
   "source": [
    "g.reset()"
   ]
  },
  {
   "cell_type": "code",
   "execution_count": 4,
   "metadata": {},
   "outputs": [],
   "source": [
    "rm = dict(map(lambda agent: (agent, RegretMatching(game=g, agent=agent, seed=1)), g.agents))"
   ]
  },
  {
   "cell_type": "code",
   "execution_count": null,
   "metadata": {},
   "outputs": [],
   "source": [
    "# prueba\n",
    "actions = dict(map(lambda agent: (agent, rm[agent].action()), g.agents))\n",
    "print(actions)\n",
    "# retorno del step: self.observations, self.rewards, self.terminations, self.truncations, self.infos\n",
    "g.step(actions)"
   ]
  },
  {
   "cell_type": "code",
   "execution_count": null,
   "metadata": {},
   "outputs": [],
   "source": [
    "# prueba regret \n",
    "rm['agent_0'].regrets(actions)"
   ]
  },
  {
   "cell_type": "code",
   "execution_count": null,
   "metadata": {},
   "outputs": [],
   "source": [
    "# prueba inspección policy\n",
    "rm['agent_0'].curr_policy"
   ]
  },
  {
   "cell_type": "code",
   "execution_count": null,
   "metadata": {},
   "outputs": [],
   "source": [
    "# prueba del update\n",
    "rm['agent_0'].update"
   ]
  },
  {
   "cell_type": "code",
   "execution_count": 5,
   "metadata": {},
   "outputs": [
    {
     "name": "stdout",
     "output_type": "stream",
     "text": [
      "acción y reward jugador actual 1 / -1.0  -  acción y reward oponente 2 / 1.0\n",
      "[0.66666667 0.         0.33333333]\n",
      "acción y reward jugador actual 2 / 1.0  -  acción y reward oponente 1 / -1.0\n",
      "[0.33333333 0.33333333 0.33333333]\n",
      "acción y reward jugador actual 0 / 1.0  -  acción y reward oponente 2 / -1.0\n",
      "[0.66666667 0.         0.33333333]\n",
      "acción y reward jugador actual 2 / -1.0  -  acción y reward oponente 0 / 1.0\n",
      "[0.33333333 0.66666667 0.        ]\n",
      "acción y reward jugador actual 0 / -1.0  -  acción y reward oponente 1 / 1.0\n",
      "[0.33333333 0.16666667 0.5       ]\n",
      "acción y reward jugador actual 1 / 1.0  -  acción y reward oponente 0 / -1.0\n",
      "[0.33333333 0.66666667 0.        ]\n",
      "acción y reward jugador actual 2 / 1.0  -  acción y reward oponente 1 / -1.0\n",
      "[0.33333333 0.16666667 0.5       ]\n",
      "acción y reward jugador actual 1 / -1.0  -  acción y reward oponente 2 / 1.0\n",
      "[0.5        0.33333333 0.16666667]\n",
      "acción y reward jugador actual 2 / 1.0  -  acción y reward oponente 1 / -1.0\n",
      "[0.33333333 0.16666667 0.5       ]\n",
      "acción y reward jugador actual 1 / -1.0  -  acción y reward oponente 2 / 1.0\n",
      "[0.55555556 0.22222222 0.22222222]\n",
      "acción y reward jugador actual 2 / 1.0  -  acción y reward oponente 1 / -1.0\n",
      "[0.33333333 0.16666667 0.5       ]\n",
      "acción y reward jugador actual 1 / -1.0  -  acción y reward oponente 2 / 1.0\n",
      "[0.58333333 0.16666667 0.25      ]\n",
      "acción y reward jugador actual 2 / 1.0  -  acción y reward oponente 1 / -1.0\n",
      "[0.33333333 0.16666667 0.5       ]\n",
      "acción y reward jugador actual 1 / -1.0  -  acción y reward oponente 2 / 1.0\n",
      "[0.6        0.13333333 0.26666667]\n",
      "acción y reward jugador actual 2 / -1.0  -  acción y reward oponente 0 / 1.0\n",
      "[0.33333333 0.33333333 0.33333333]\n",
      "acción y reward jugador actual 0 / 1.0  -  acción y reward oponente 2 / -1.0\n",
      "[0.6        0.13333333 0.26666667]\n",
      "acción y reward jugador actual 0 / 0.0  -  acción y reward oponente 0 / -0.0\n",
      "[0.3 0.4 0.3]\n",
      "acción y reward jugador actual 0 / -0.0  -  acción y reward oponente 0 / 0.0\n",
      "[0.5625 0.1875 0.25  ]\n",
      "acción y reward jugador actual 2 / -1.0  -  acción y reward oponente 0 / 1.0\n",
      "[0.30769231 0.46153846 0.23076923]\n",
      "acción y reward jugador actual 0 / 1.0  -  acción y reward oponente 2 / -1.0\n",
      "[0.5625 0.1875 0.25  ]\n",
      "acción y reward jugador actual 1 / 0.0  -  acción y reward oponente 1 / -0.0\n",
      "[0.28571429 0.42857143 0.28571429]\n",
      "acción y reward jugador actual 1 / -0.0  -  acción y reward oponente 1 / 0.0\n",
      "[0.52941176 0.17647059 0.29411765]\n",
      "acción y reward jugador actual 2 / 1.0  -  acción y reward oponente 1 / -1.0\n",
      "[0.28571429 0.42857143 0.28571429]\n",
      "acción y reward jugador actual 1 / -1.0  -  acción y reward oponente 2 / 1.0\n",
      "[0.55 0.15 0.3 ]\n",
      "acción y reward jugador actual 2 / -1.0  -  acción y reward oponente 0 / 1.0\n",
      "[0.29411765 0.47058824 0.23529412]\n",
      "acción y reward jugador actual 0 / 1.0  -  acción y reward oponente 2 / -1.0\n",
      "[0.55 0.15 0.3 ]\n",
      "acción y reward jugador actual 2 / -1.0  -  acción y reward oponente 0 / 1.0\n",
      "[0.3 0.5 0.2]\n",
      "acción y reward jugador actual 0 / 1.0  -  acción y reward oponente 2 / -1.0\n",
      "[0.55 0.15 0.3 ]\n",
      "acción y reward jugador actual 1 / 1.0  -  acción y reward oponente 0 / -1.0\n",
      "[0.3 0.5 0.2]\n",
      "acción y reward jugador actual 0 / -1.0  -  acción y reward oponente 1 / 1.0\n",
      "[0.47826087 0.17391304 0.34782609]\n",
      "acción y reward jugador actual 1 / -1.0  -  acción y reward oponente 2 / 1.0\n",
      "[0.34782609 0.43478261 0.2173913 ]\n",
      "acción y reward jugador actual 2 / 1.0  -  acción y reward oponente 1 / -1.0\n",
      "[0.47826087 0.17391304 0.34782609]\n",
      "acción y reward jugador actual 1 / -1.0  -  acción y reward oponente 2 / 1.0\n",
      "[0.38461538 0.38461538 0.23076923]\n",
      "acción y reward jugador actual 2 / 1.0  -  acción y reward oponente 1 / -1.0\n",
      "[0.47826087 0.17391304 0.34782609]\n",
      "acción y reward jugador actual 0 / 1.0  -  acción y reward oponente 2 / -1.0\n",
      "[0.38461538 0.38461538 0.23076923]\n",
      "acción y reward jugador actual 2 / -1.0  -  acción y reward oponente 0 / 1.0\n",
      "[0.46153846 0.23076923 0.30769231]\n",
      "acción y reward jugador actual 0 / 1.0  -  acción y reward oponente 2 / -1.0\n",
      "[0.38461538 0.38461538 0.23076923]\n",
      "acción y reward jugador actual 2 / -1.0  -  acción y reward oponente 0 / 1.0\n",
      "[0.44827586 0.27586207 0.27586207]\n"
     ]
    }
   ],
   "source": [
    "for i in range(20):\n",
    "    actions = dict(map(lambda agent: (agent, rm[agent].action()), g.agents))\n",
    "    g.step(actions)"
   ]
  },
  {
   "cell_type": "code",
   "execution_count": null,
   "metadata": {},
   "outputs": [],
   "source": [
    "dict(map(lambda agent: (agent, rm[agent].policy()), g.agents))"
   ]
  },
  {
   "cell_type": "code",
   "execution_count": null,
   "metadata": {},
   "outputs": [],
   "source": [
    "agent_classes = [ RegretMatching, RandomAgent ]\n",
    "my_agents = {}\n",
    "g.reset()\n",
    "for i, agent in enumerate(g.agents):\n",
    "    my_agents[agent] = agent_classes[i](game=g, agent=agent)\n"
   ]
  },
  {
   "cell_type": "code",
   "execution_count": null,
   "metadata": {},
   "outputs": [],
   "source": [
    "for i in range(10000):\n",
    "    actions = dict(map(lambda agent: (agent, my_agents[agent].action()), g.agents))\n",
    "    g.step(actions)"
   ]
  },
  {
   "cell_type": "code",
   "execution_count": null,
   "metadata": {},
   "outputs": [],
   "source": [
    "dict(map(lambda agent: (agent, my_agents[agent].policy()), g.agents))"
   ]
  },
  {
   "cell_type": "code",
   "execution_count": null,
   "metadata": {},
   "outputs": [],
   "source": [
    "g.reset()"
   ]
  },
  {
   "cell_type": "code",
   "execution_count": null,
   "metadata": {},
   "outputs": [],
   "source": [
    "fp = dict(map(lambda agent: (agent, FictitiousPlay(game=g, agent=agent, seed=1)), g.agents))"
   ]
  },
  {
   "cell_type": "code",
   "execution_count": null,
   "metadata": {},
   "outputs": [],
   "source": [
    "for i in range(10000):\n",
    "    actions = dict(map(lambda agent: (agent, fp[agent].action()), g.agents))\n",
    "    g.step(actions)"
   ]
  },
  {
   "cell_type": "code",
   "execution_count": null,
   "metadata": {},
   "outputs": [],
   "source": [
    "dict(map(lambda agent: (agent, fp[agent].policy()), g.agents))"
   ]
  },
  {
   "cell_type": "code",
   "execution_count": null,
   "metadata": {},
   "outputs": [],
   "source": [
    "agent_classes = [ FictitiousPlay, RandomAgent ]\n",
    "my_agents = {}\n",
    "g.reset()\n",
    "for i, agent in enumerate(g.agents):\n",
    "    my_agents[agent] = agent_classes[i](game=g, agent=agent)\n"
   ]
  },
  {
   "cell_type": "code",
   "execution_count": null,
   "metadata": {},
   "outputs": [],
   "source": [
    "for i in range(10000):\n",
    "    actions = dict(map(lambda agent: (agent, my_agents[agent].action()), g.agents))\n",
    "    g.step(actions)"
   ]
  },
  {
   "cell_type": "code",
   "execution_count": null,
   "metadata": {},
   "outputs": [],
   "source": [
    "dict(map(lambda agent: (agent, my_agents[agent].policy()), g.agents))"
   ]
  }
 ],
 "metadata": {
  "kernelspec": {
   "display_name": "Python 3",
   "language": "python",
   "name": "python3"
  },
  "language_info": {
   "codemirror_mode": {
    "name": "ipython",
    "version": 3
   },
   "file_extension": ".py",
   "mimetype": "text/x-python",
   "name": "python",
   "nbconvert_exporter": "python",
   "pygments_lexer": "ipython3",
   "version": "3.11.0"
  },
  "orig_nbformat": 4
 },
 "nbformat": 4,
 "nbformat_minor": 2
}
