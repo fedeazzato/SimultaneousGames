{
 "cells": [
  {
   "cell_type": "code",
   "execution_count": null,
   "metadata": {},
   "outputs": [],
   "source": [
    "!pip show pettingzoo "
   ]
  },
  {
   "cell_type": "code",
   "execution_count": 6,
   "metadata": {},
   "outputs": [],
   "source": [
    "from games.rps import RPS\n",
    "from agents.random_agent import RandomAgent"
   ]
  },
  {
   "cell_type": "code",
   "execution_count": 7,
   "metadata": {},
   "outputs": [],
   "source": [
    "# Create game\n",
    "g = RPS()"
   ]
  },
  {
   "cell_type": "code",
   "execution_count": 8,
   "metadata": {},
   "outputs": [
    {
     "data": {
      "text/plain": [
       "({'agent_0': None, 'agent_1': None}, None)"
      ]
     },
     "execution_count": 8,
     "metadata": {},
     "output_type": "execute_result"
    }
   ],
   "source": [
    "# Reset game\n",
    "g.reset()"
   ]
  },
  {
   "cell_type": "code",
   "execution_count": 9,
   "metadata": {},
   "outputs": [
    {
     "name": "stdout",
     "output_type": "stream",
     "text": [
      "agent_0 R None\n",
      "agent_1 P None\n"
     ]
    }
   ],
   "source": [
    "# Render game\n",
    "g.render()"
   ]
  },
  {
   "cell_type": "code",
   "execution_count": 10,
   "metadata": {},
   "outputs": [],
   "source": [
    "# Create agents\n",
    "agent_0 = RandomAgent(game=g, agent=g.agents[0], seed=1)\n",
    "agent_1 = RandomAgent(game=g, agent=g.agents[1], seed=2)\n"
   ]
  },
  {
   "cell_type": "code",
   "execution_count": 11,
   "metadata": {},
   "outputs": [
    {
     "name": "stdout",
     "output_type": "stream",
     "text": [
      "agent_0 {'agent_0': 1, 'agent_1': 0} 1.0\n",
      "agent_1 {'agent_0': 1, 'agent_1': 0} -1.0\n",
      "agent_0 R 1.0\n",
      "agent_1 P -1.0\n"
     ]
    }
   ],
   "source": [
    "for i in range(1):\n",
    "    action_0 = agent_0.action()\n",
    "    action_1 = agent_1.action()\n",
    "    actions = {agent_0.agent: action_0, agent_1.agent: action_1}\n",
    "    g.step(actions)\n",
    "    \n",
    "    for agent in g.agents: \n",
    "        print(agent, g.observe(agent), g.reward(agent))\n",
    "\n",
    "    g.render()\n"
   ]
  }
 ],
 "metadata": {
  "kernelspec": {
   "display_name": "Python 3",
   "language": "python",
   "name": "python3"
  },
  "language_info": {
   "codemirror_mode": {
    "name": "ipython",
    "version": 3
   },
   "file_extension": ".py",
   "mimetype": "text/x-python",
   "name": "python",
   "nbconvert_exporter": "python",
   "pygments_lexer": "ipython3",
   "version": "3.11.0"
  },
  "orig_nbformat": 4
 },
 "nbformat": 4,
 "nbformat_minor": 2
}
