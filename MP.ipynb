{
 "cells": [
  {
   "cell_type": "code",
   "execution_count": 1,
   "metadata": {},
   "outputs": [],
   "source": [
    "from games.mp import MP\n",
    "from agents.regretmatching import RegretMatching\n",
    "from agents.fictitiousplay import FictitiousPlay\n",
    "from agents.random_agent import RandomAgent"
   ]
  },
  {
   "cell_type": "code",
   "execution_count": 2,
   "metadata": {},
   "outputs": [],
   "source": [
    "g = MP()"
   ]
  },
  {
   "cell_type": "code",
   "execution_count": 3,
   "metadata": {},
   "outputs": [
    {
     "data": {
      "text/plain": [
       "({'agent_0': None, 'agent_1': None}, None)"
      ]
     },
     "execution_count": 3,
     "metadata": {},
     "output_type": "execute_result"
    }
   ],
   "source": [
    "g.reset()"
   ]
  },
  {
   "cell_type": "code",
   "execution_count": null,
   "metadata": {},
   "outputs": [],
   "source": [
    "#rm = dict(map(lambda agent: (agent, RegretMatching(game=g, agent=agent)), g.agents))"
   ]
  },
  {
   "cell_type": "code",
   "execution_count": 4,
   "metadata": {},
   "outputs": [],
   "source": [
    "fp = dict(map(lambda agent: (agent, FictitiousPlay(game=g, agent=agent)), g.agents))"
   ]
  },
  {
   "cell_type": "code",
   "execution_count": 8,
   "metadata": {},
   "outputs": [
    {
     "ename": "KeyError",
     "evalue": "'agent_0'",
     "output_type": "error",
     "traceback": [
      "\u001b[0;31m---------------------------------------------------------------------------\u001b[0m",
      "\u001b[0;31mKeyError\u001b[0m                                  Traceback (most recent call last)",
      "Cell \u001b[0;32mIn[8], line 2\u001b[0m\n\u001b[1;32m      1\u001b[0m \u001b[39mfor\u001b[39;00m i \u001b[39min\u001b[39;00m \u001b[39mrange\u001b[39m(\u001b[39m1000\u001b[39m):\n\u001b[0;32m----> 2\u001b[0m     actions \u001b[39m=\u001b[39m \u001b[39mdict\u001b[39;49m(\u001b[39mmap\u001b[39;49m(\u001b[39mlambda\u001b[39;49;00m agent: (agent, fp[agent]\u001b[39m.\u001b[39;49maction()), g\u001b[39m.\u001b[39;49magents))\n\u001b[1;32m      3\u001b[0m     g\u001b[39m.\u001b[39mstep(actions)\n\u001b[1;32m      4\u001b[0m     \u001b[39mfor\u001b[39;00m agent \u001b[39min\u001b[39;00m g\u001b[39m.\u001b[39magents: \n",
      "Cell \u001b[0;32mIn[8], line 2\u001b[0m, in \u001b[0;36m<lambda>\u001b[0;34m(agent)\u001b[0m\n\u001b[1;32m      1\u001b[0m \u001b[39mfor\u001b[39;00m i \u001b[39min\u001b[39;00m \u001b[39mrange\u001b[39m(\u001b[39m1000\u001b[39m):\n\u001b[0;32m----> 2\u001b[0m     actions \u001b[39m=\u001b[39m \u001b[39mdict\u001b[39m(\u001b[39mmap\u001b[39m(\u001b[39mlambda\u001b[39;00m agent: (agent, fp[agent]\u001b[39m.\u001b[39;49maction()), g\u001b[39m.\u001b[39magents))\n\u001b[1;32m      3\u001b[0m     g\u001b[39m.\u001b[39mstep(actions)\n\u001b[1;32m      4\u001b[0m     \u001b[39mfor\u001b[39;00m agent \u001b[39min\u001b[39;00m g\u001b[39m.\u001b[39magents: \n",
      "File \u001b[0;32m~/Documents/Sistemas Multiagente/Practicos/Simultaneous Games/agents/fictitiousplay.py:68\u001b[0m, in \u001b[0;36mFictitiousPlay.action\u001b[0;34m(self)\u001b[0m\n\u001b[1;32m     67\u001b[0m \u001b[39mdef\u001b[39;00m \u001b[39maction\u001b[39m(\u001b[39mself\u001b[39m):\n\u001b[0;32m---> 68\u001b[0m     \u001b[39mself\u001b[39;49m\u001b[39m.\u001b[39;49mupdate()\n\u001b[1;32m     69\u001b[0m     \u001b[39mreturn\u001b[39;00m \u001b[39mself\u001b[39m\u001b[39m.\u001b[39mbestresponse()\n",
      "File \u001b[0;32m~/Documents/Sistemas Multiagente/Practicos/Simultaneous Games/agents/fictitiousplay.py:64\u001b[0m, in \u001b[0;36mFictitiousPlay.update\u001b[0;34m(self)\u001b[0m\n\u001b[1;32m     62\u001b[0m     \u001b[39mreturn\u001b[39;00m\n\u001b[1;32m     63\u001b[0m \u001b[39mfor\u001b[39;00m agent \u001b[39min\u001b[39;00m \u001b[39mself\u001b[39m\u001b[39m.\u001b[39mgame\u001b[39m.\u001b[39magents:\n\u001b[0;32m---> 64\u001b[0m     \u001b[39mself\u001b[39;49m\u001b[39m.\u001b[39;49mcount[agent][actions[agent]] \u001b[39m+\u001b[39m\u001b[39m=\u001b[39m \u001b[39m1\u001b[39m\n\u001b[1;32m     65\u001b[0m     \u001b[39mself\u001b[39m\u001b[39m.\u001b[39mlearned_policy[agent] \u001b[39m=\u001b[39m \u001b[39mself\u001b[39m\u001b[39m.\u001b[39mcount[agent] \u001b[39m/\u001b[39m np\u001b[39m.\u001b[39msum(\u001b[39mself\u001b[39m\u001b[39m.\u001b[39mcount[agent])\n",
      "\u001b[0;31mKeyError\u001b[0m: 'agent_0'"
     ]
    }
   ],
   "source": [
    "for i in range(1000):\n",
    "    actions = dict(map(lambda agent: (agent, fp[agent].action()), g.agents))\n",
    "    g.step(actions)\n",
    "    for agent in g.agents: \n",
    "        print(agent, g.observe(agent), g.reward(agent))\n",
    "\n",
    "    g.render()"
   ]
  },
  {
   "cell_type": "code",
   "execution_count": null,
   "metadata": {},
   "outputs": [],
   "source": [
    "dict(map(lambda agent: (agent, rm[agent].policy()), g.agents))"
   ]
  },
  {
   "cell_type": "code",
   "execution_count": null,
   "metadata": {},
   "outputs": [],
   "source": [
    "agent_classes = [ RegretMatching, RandomAgent ]\n",
    "my_agents = {}\n",
    "g.reset()\n",
    "for i, agent in enumerate(g.agents):\n",
    "    my_agents[agent] = agent_classes[i](game=g, agent=agent)\n"
   ]
  },
  {
   "cell_type": "code",
   "execution_count": null,
   "metadata": {},
   "outputs": [],
   "source": [
    "for i in range(10000):\n",
    "    actions = dict(map(lambda agent: (agent, my_agents[agent].action()), g.agents))\n",
    "    g.step(actions)"
   ]
  },
  {
   "cell_type": "code",
   "execution_count": null,
   "metadata": {},
   "outputs": [],
   "source": [
    "dict(map(lambda agent: (agent, my_agents[agent].policy()), g.agents))"
   ]
  },
  {
   "cell_type": "code",
   "execution_count": null,
   "metadata": {},
   "outputs": [],
   "source": [
    "g.reset()"
   ]
  },
  {
   "cell_type": "code",
   "execution_count": null,
   "metadata": {},
   "outputs": [],
   "source": [
    "fp = dict(map(lambda agent: (agent, FictitiousPlay(game=g, agent=agent)), g.agents))"
   ]
  },
  {
   "cell_type": "code",
   "execution_count": null,
   "metadata": {},
   "outputs": [],
   "source": [
    "for i in range(10000):\n",
    "    actions = dict(map(lambda agent: (agent, fp[agent].action()), g.agents))\n",
    "    g.step(actions)"
   ]
  },
  {
   "cell_type": "code",
   "execution_count": null,
   "metadata": {},
   "outputs": [],
   "source": [
    "dict(map(lambda agent: (agent, fp[agent].policy()), g.agents))"
   ]
  },
  {
   "cell_type": "code",
   "execution_count": null,
   "metadata": {},
   "outputs": [],
   "source": [
    "agent_classes = [ FictitiousPlay, RandomAgent ]\n",
    "my_agents = {}\n",
    "g.reset()\n",
    "for i, agent in enumerate(g.agents):\n",
    "    my_agents[agent] = agent_classes[i](game=g, agent=agent)\n"
   ]
  },
  {
   "cell_type": "code",
   "execution_count": null,
   "metadata": {},
   "outputs": [],
   "source": [
    "for i in range(10000):\n",
    "    actions = dict(map(lambda agent: (agent, my_agents[agent].action()), g.agents))\n",
    "    g.step(actions)"
   ]
  },
  {
   "cell_type": "code",
   "execution_count": null,
   "metadata": {},
   "outputs": [],
   "source": [
    "dict(map(lambda agent: (agent, my_agents[agent].policy()), g.agents))"
   ]
  }
 ],
 "metadata": {
  "kernelspec": {
   "display_name": "Python 3",
   "language": "python",
   "name": "python3"
  },
  "language_info": {
   "codemirror_mode": {
    "name": "ipython",
    "version": 3
   },
   "file_extension": ".py",
   "mimetype": "text/x-python",
   "name": "python",
   "nbconvert_exporter": "python",
   "pygments_lexer": "ipython3",
   "version": "3.11.0"
  },
  "orig_nbformat": 4
 },
 "nbformat": 4,
 "nbformat_minor": 2
}
